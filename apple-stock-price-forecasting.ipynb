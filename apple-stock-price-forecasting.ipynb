{
 "cells": [
  {
   "cell_type": "markdown",
   "metadata": {
    "_uuid": "643021d408b73911ca117f21501644ce4e1ca3ad"
   },
   "source": [
    "# Stock Price Forecasting\n",
    "**<h2> Using Tensor Flow and Deep Learning </h2>**\n",
    "* **1. Introduction**\n",
    "  * 1.1 Aim of the project\n",
    "  * 1.2 Data Analytics Technqiues used in the project\n",
    "  * 1.3 What is Deep Learning?\n",
    "  * 1.4 Deep Learning Models used in this kernel\n",
    "* **2. Data Cleaning and Analytics**\n",
    "    * 2.1 Load data\n",
    "    * 2.2 Check for missing values\n",
    "    * 2.3 Finding max,min and std of each column\n",
    "    * 2.4  Check if each predcitor column is normally distributed if not correct the skew\n",
    "    * 2.5 Spearman's Rank-Order Correlation //find the strength of the relationship\n",
    "    * 2.6 Logistic Regression // check if a variable can correctly predict the target\n",
    "    Have done some parts but a shitload to do regardless\n",
    "    Normalization, Check if there are any outlier how to deal with them is standardiztion of varibales necessary if so do it\n",
    "* **3. Data Visualization** Strictly no copying from kernels atleast this early:-P\n",
    "    * 3.1 Bar Plot of Class Column - Fraud vs Normal \n",
    "    * 3.2 Time vs Fraud...Do frauds occur at a particular time - Scatter plot\n",
    "    * 3.3 Amount vs Fraud Are frauds particulary high for a certain amount -Scatter plot...any better alternatives try it\n",
    "    * 3.4 Heatmap of a  Correlation Matrix -Search in net\n",
    "    * 3.5 Put a barplot of the skewed amount and time columns\n",
    "    * 3.6  Plot boxplots of strongly correlated columns and show the relationship\n",
    "* **4. Selection of Machine Learning Model** we will do this together\n",
    "    * 4.1 TBD\n",
    "* **5. Training and Testing the Machine Learning Model**\n",
    "    * 5.1 Predicting the test data using the trained RBF Kernel\n",
    "    * 5.2 Labelling the Output and Submission\n",
    "* **6. Reporting error of the model**\n",
    "    * 6.1 Predicting the test data using the trained RBF Kernel\n",
    "    * 6.2 Labelling the Output and Submission"
   ]
  },
  {
   "cell_type": "code",
   "execution_count": 1,
   "metadata": {
    "_cell_guid": "b1076dfc-b9ad-4769-8c92-a6c4dae69d19",
    "_uuid": "8f2839f25d086af736a60e9eeb907d3b93b6e0e5"
   },
   "outputs": [
    {
     "name": "stdout",
     "output_type": "stream",
     "text": [
      "['merge.sh', 'all_stocks_5yr.csv', 'getSandP.py', 'individual_stocks_5yr']\n"
     ]
    }
   ],
   "source": [
    "# This Python 3 environment comes with many helpful analytics libraries installed\n",
    "# It is defined by the kaggle/python docker image: https://github.com/kaggle/docker-python\n",
    "# For example, here's several helpful packages to load in \n",
    "\n",
    "import numpy as np # linear algebra\n",
    "import pandas as pd # data processing, CSV file I/O (e.g. pd.read_csv)\n",
    "\n",
    "# Input data files are available in the \"../input/\" directory.\n",
    "# For example, running this (by clicking run or pressing Shift+Enter) will list the files in the input directory\n",
    "\n",
    "import os\n",
    "print(os.listdir(\"../input\"))\n",
    "\n",
    "# Any results you write to the current directory are saved as output."
   ]
  },
  {
   "cell_type": "markdown",
   "metadata": {
    "_cell_guid": "79c7e3d0-c299-4dcb-8224-4455121ee9b0",
    "_uuid": "d629ff2d2480ee46fbb7e2d37f6b5fab8052498a",
    "collapsed": true
   },
   "source": [
    "Reading Data"
   ]
  },
  {
   "cell_type": "code",
   "execution_count": 2,
   "metadata": {
    "_uuid": "7c3096c4cfa6ac40a0ec37e1ef514554c174be1a"
   },
   "outputs": [],
   "source": [
    "import pandas as pd"
   ]
  },
  {
   "cell_type": "code",
   "execution_count": 3,
   "metadata": {
    "_uuid": "f52614a362687e344fde0b69c2e7747456d2b66c"
   },
   "outputs": [
    {
     "name": "stdout",
     "output_type": "stream",
     "text": [
      "<class 'pandas.core.frame.DataFrame'>\n",
      "RangeIndex: 619040 entries, 0 to 619039\n",
      "Data columns (total 7 columns):\n",
      "date      619040 non-null object\n",
      "open      619029 non-null float64\n",
      "high      619032 non-null float64\n",
      "low       619032 non-null float64\n",
      "close     619040 non-null float64\n",
      "volume    619040 non-null int64\n",
      "Name      619040 non-null object\n",
      "dtypes: float64(4), int64(1), object(2)\n",
      "memory usage: 33.1+ MB\n"
     ]
    }
   ],
   "source": [
    "df=pd.read_csv('../input/all_stocks_5yr.csv')\n",
    "df.info()"
   ]
  },
  {
   "cell_type": "markdown",
   "metadata": {
    "_uuid": "009680e26ea20c36b5200b0f60e03e5f20c1d64e"
   },
   "source": [
    "Describe the dataset"
   ]
  },
  {
   "cell_type": "code",
   "execution_count": 4,
   "metadata": {
    "_uuid": "e17fd5989c7f63e47d7f3d75088e83a05a505419"
   },
   "outputs": [
    {
     "data": {
      "text/html": [
       "<div>\n",
       "<style scoped>\n",
       "    .dataframe tbody tr th:only-of-type {\n",
       "        vertical-align: middle;\n",
       "    }\n",
       "\n",
       "    .dataframe tbody tr th {\n",
       "        vertical-align: top;\n",
       "    }\n",
       "\n",
       "    .dataframe thead th {\n",
       "        text-align: right;\n",
       "    }\n",
       "</style>\n",
       "<table border=\"1\" class=\"dataframe\">\n",
       "  <thead>\n",
       "    <tr style=\"text-align: right;\">\n",
       "      <th></th>\n",
       "      <th>open</th>\n",
       "      <th>high</th>\n",
       "      <th>low</th>\n",
       "      <th>close</th>\n",
       "      <th>volume</th>\n",
       "    </tr>\n",
       "  </thead>\n",
       "  <tbody>\n",
       "    <tr>\n",
       "      <th>count</th>\n",
       "      <td>619029.000000</td>\n",
       "      <td>619032.000000</td>\n",
       "      <td>619032.000000</td>\n",
       "      <td>619040.000000</td>\n",
       "      <td>6.190400e+05</td>\n",
       "    </tr>\n",
       "    <tr>\n",
       "      <th>mean</th>\n",
       "      <td>83.023334</td>\n",
       "      <td>83.778311</td>\n",
       "      <td>82.256096</td>\n",
       "      <td>83.043763</td>\n",
       "      <td>4.321823e+06</td>\n",
       "    </tr>\n",
       "    <tr>\n",
       "      <th>std</th>\n",
       "      <td>97.378769</td>\n",
       "      <td>98.207519</td>\n",
       "      <td>96.507421</td>\n",
       "      <td>97.389748</td>\n",
       "      <td>8.693610e+06</td>\n",
       "    </tr>\n",
       "    <tr>\n",
       "      <th>min</th>\n",
       "      <td>1.620000</td>\n",
       "      <td>1.690000</td>\n",
       "      <td>1.500000</td>\n",
       "      <td>1.590000</td>\n",
       "      <td>0.000000e+00</td>\n",
       "    </tr>\n",
       "    <tr>\n",
       "      <th>25%</th>\n",
       "      <td>40.220000</td>\n",
       "      <td>40.620000</td>\n",
       "      <td>39.830000</td>\n",
       "      <td>40.245000</td>\n",
       "      <td>1.070320e+06</td>\n",
       "    </tr>\n",
       "    <tr>\n",
       "      <th>50%</th>\n",
       "      <td>62.590000</td>\n",
       "      <td>63.150000</td>\n",
       "      <td>62.020000</td>\n",
       "      <td>62.620000</td>\n",
       "      <td>2.082094e+06</td>\n",
       "    </tr>\n",
       "    <tr>\n",
       "      <th>75%</th>\n",
       "      <td>94.370000</td>\n",
       "      <td>95.180000</td>\n",
       "      <td>93.540000</td>\n",
       "      <td>94.410000</td>\n",
       "      <td>4.284509e+06</td>\n",
       "    </tr>\n",
       "    <tr>\n",
       "      <th>max</th>\n",
       "      <td>2044.000000</td>\n",
       "      <td>2067.990000</td>\n",
       "      <td>2035.110000</td>\n",
       "      <td>2049.000000</td>\n",
       "      <td>6.182376e+08</td>\n",
       "    </tr>\n",
       "  </tbody>\n",
       "</table>\n",
       "</div>"
      ],
      "text/plain": [
       "                open           high      ...               close        volume\n",
       "count  619029.000000  619032.000000      ...       619040.000000  6.190400e+05\n",
       "mean       83.023334      83.778311      ...           83.043763  4.321823e+06\n",
       "std        97.378769      98.207519      ...           97.389748  8.693610e+06\n",
       "min         1.620000       1.690000      ...            1.590000  0.000000e+00\n",
       "25%        40.220000      40.620000      ...           40.245000  1.070320e+06\n",
       "50%        62.590000      63.150000      ...           62.620000  2.082094e+06\n",
       "75%        94.370000      95.180000      ...           94.410000  4.284509e+06\n",
       "max      2044.000000    2067.990000      ...         2049.000000  6.182376e+08\n",
       "\n",
       "[8 rows x 5 columns]"
      ]
     },
     "execution_count": 4,
     "metadata": {},
     "output_type": "execute_result"
    }
   ],
   "source": [
    "df.describe()"
   ]
  },
  {
   "cell_type": "markdown",
   "metadata": {
    "_uuid": "a565fba5c31284e252eb17d9a28ac68592ea7489"
   },
   "source": [
    "Checking Null"
   ]
  },
  {
   "cell_type": "code",
   "execution_count": 5,
   "metadata": {
    "_uuid": "f4ff3f36cf9b5ec8a2758db5c7fc24c892f5acfd"
   },
   "outputs": [
    {
     "name": "stdout",
     "output_type": "stream",
     "text": [
      "True\n",
      "date      False\n",
      "open       True\n",
      "high       True\n",
      "low        True\n",
      "close     False\n",
      "volume    False\n",
      "Name      False\n",
      "dtype: bool\n",
      "27\n",
      "date\n",
      "['2013-02-08' '2013-02-11' '2013-02-12' ... '2018-02-05' '2018-02-06'\n",
      " '2018-02-07']\n",
      "open\n",
      "[15.07   14.89   14.45   ... 44.879  53.4747 72.405 ]\n",
      "high\n",
      "[15.12   15.01   14.51   ... 64.2776 65.525  72.9128]\n",
      "low\n",
      "[14.63   14.26   14.1    ... 70.995  71.465  73.1607]\n",
      "close\n",
      "[14.75  14.46  14.27  ... 27.535 27.215 29.318]\n",
      "volume\n",
      "[8407500 8882000 8126000 ... 2962031 4924323 4534912]\n",
      "Name\n",
      "['AAL' 'AAPL' 'AAP' 'ABBV' 'ABC' 'ABT' 'ACN' 'ADBE' 'ADI' 'ADM' 'ADP'\n",
      " 'ADSK' 'ADS' 'AEE' 'AEP' 'AES' 'AET' 'AFL' 'AGN' 'AIG' 'AIV' 'AIZ' 'AJG'\n",
      " 'AKAM' 'ALB' 'ALGN' 'ALK' 'ALLE' 'ALL' 'ALXN' 'AMAT' 'AMD' 'AME' 'AMGN'\n",
      " 'AMG' 'AMP' 'AMT' 'AMZN' 'ANDV' 'ANSS' 'ANTM' 'AON' 'AOS' 'APA' 'APC'\n",
      " 'APD' 'APH' 'APTV' 'ARE' 'ARNC' 'ATVI' 'AVB' 'AVGO' 'AVY' 'AWK' 'AXP'\n",
      " 'AYI' 'AZO' 'A' 'BAC' 'BAX' 'BA' 'BBT' 'BBY' 'BDX' 'BEN' 'BF.B' 'BHF'\n",
      " 'BHGE' 'BIIB' 'BK' 'BLK' 'BLL' 'BMY' 'BRK.B' 'BSX' 'BWA' 'BXP' 'CAG'\n",
      " 'CAH' 'CAT' 'CA' 'CBG' 'CBOE' 'CBS' 'CB' 'CCI' 'CCL' 'CDNS' 'CELG' 'CERN'\n",
      " 'CFG' 'CF' 'CHD' 'CHK' 'CHRW' 'CHTR' 'CINF' 'CI' 'CLX' 'CL' 'CMA' 'CMCSA'\n",
      " 'CME' 'CMG' 'CMI' 'CMS' 'CNC' 'CNP' 'COF' 'COG' 'COL' 'COO' 'COP' 'COST'\n",
      " 'COTY' 'CPB' 'CRM' 'CSCO' 'CSRA' 'CSX' 'CTAS' 'CTL' 'CTSH' 'CTXS' 'CVS'\n",
      " 'CVX' 'CXO' 'C' 'DAL' 'DE' 'DFS' 'DGX' 'DG' 'DHI' 'DHR' 'DISCA' 'DISCK'\n",
      " 'DISH' 'DIS' 'DLR' 'DLTR' 'DOV' 'DPS' 'DRE' 'DRI' 'DTE' 'DUK' 'DVA' 'DVN'\n",
      " 'DWDP' 'DXC' 'D' 'EA' 'EBAY' 'ECL' 'ED' 'EFX' 'EIX' 'EL' 'EMN' 'EMR'\n",
      " 'EOG' 'EQIX' 'EQR' 'EQT' 'ESRX' 'ESS' 'ES' 'ETFC' 'ETN' 'ETR' 'EVHC' 'EW'\n",
      " 'EXC' 'EXPD' 'EXPE' 'EXR' 'FAST' 'FBHS' 'FB' 'FCX' 'FDX' 'FE' 'FFIV'\n",
      " 'FISV' 'FIS' 'FITB' 'FLIR' 'FLR' 'FLS' 'FL' 'FMC' 'FOXA' 'FOX' 'FRT'\n",
      " 'FTI' 'FTV' 'F' 'GD' 'GE' 'GGP' 'GILD' 'GIS' 'GLW' 'GM' 'GOOGL' 'GOOG'\n",
      " 'GPC' 'GPN' 'GPS' 'GRMN' 'GS' 'GT' 'GWW' 'HAL' 'HAS' 'HBAN' 'HBI' 'HCA'\n",
      " 'HCN' 'HCP' 'HD' 'HES' 'HIG' 'HII' 'HLT' 'HOG' 'HOLX' 'HON' 'HPE' 'HPQ'\n",
      " 'HP' 'HRB' 'HRL' 'HRS' 'HSIC' 'HST' 'HSY' 'HUM' 'IBM' 'ICE' 'IDXX' 'IFF'\n",
      " 'ILMN' 'INCY' 'INFO' 'INTC' 'INTU' 'IPG' 'IP' 'IQV' 'IRM' 'IR' 'ISRG'\n",
      " 'ITW' 'IT' 'IVZ' 'JBHT' 'JCI' 'JEC' 'JNJ' 'JNPR' 'JPM' 'JWN' 'KEY' 'KHC'\n",
      " 'KIM' 'KLAC' 'KMB' 'KMI' 'KMX' 'KORS' 'KO' 'KR' 'KSS' 'KSU' 'K' 'LB'\n",
      " 'LEG' 'LEN' 'LH' 'LKQ' 'LLL' 'LLY' 'LMT' 'LNC' 'LNT' 'LOW' 'LRCX' 'LUK'\n",
      " 'LUV' 'LYB' 'L' 'MAA' 'MAC' 'MAR' 'MAS' 'MAT' 'MA' 'MCD' 'MCHP' 'MCK'\n",
      " 'MCO' 'MDLZ' 'MDT' 'MET' 'MGM' 'MHK' 'MKC' 'MLM' 'MMC' 'MMM' 'MNST' 'MON'\n",
      " 'MOS' 'MO' 'MPC' 'MRK' 'MRO' 'MSFT' 'MSI' 'MS' 'MTB' 'MTD' 'MU' 'MYL' 'M'\n",
      " 'NAVI' 'NBL' 'NCLH' 'NDAQ' 'NEE' 'NEM' 'NFLX' 'NFX' 'NI' 'NKE' 'NLSN'\n",
      " 'NOC' 'NOV' 'NRG' 'NSC' 'NTAP' 'NTRS' 'NUE' 'NVDA' 'NWL' 'NWSA' 'NWS'\n",
      " 'OKE' 'OMC' 'ORCL' 'ORLY' 'OXY' 'O' 'PAYX' 'PBCT' 'PCAR' 'PCG' 'PCLN'\n",
      " 'PDCO' 'PEG' 'PEP' 'PFE' 'PFG' 'PGR' 'PG' 'PHM' 'PH' 'PKG' 'PKI' 'PLD'\n",
      " 'PM' 'PNC' 'PNR' 'PNW' 'PPG' 'PPL' 'PRGO' 'PRU' 'PSA' 'PSX' 'PVH' 'PWR'\n",
      " 'PXD' 'PX' 'PYPL' 'QCOM' 'QRVO' 'RCL' 'REGN' 'REG' 'RE' 'RF' 'RHI' 'RHT'\n",
      " 'RJF' 'RL' 'RMD' 'ROK' 'ROP' 'ROST' 'RRC' 'RSG' 'RTN' 'SBAC' 'SBUX' 'SCG'\n",
      " 'SCHW' 'SEE' 'SHW' 'SIG' 'SJM' 'SLB' 'SLG' 'SNA' 'SNI' 'SNPS' 'SO' 'SPGI'\n",
      " 'SPG' 'SRCL' 'SRE' 'STI' 'STT' 'STX' 'STZ' 'SWKS' 'SWK' 'SYF' 'SYK'\n",
      " 'SYMC' 'SYY' 'TAP' 'TDG' 'TEL' 'TGT' 'TIF' 'TJX' 'TMK' 'TMO' 'TPR' 'TRIP'\n",
      " 'TROW' 'TRV' 'TSCO' 'TSN' 'TSS' 'TWX' 'TXN' 'TXT' 'T' 'UAA' 'UAL' 'UA'\n",
      " 'UDR' 'UHS' 'ULTA' 'UNH' 'UNM' 'UNP' 'UPS' 'URI' 'USB' 'UTX' 'VAR' 'VFC'\n",
      " 'VIAB' 'VLO' 'VMC' 'VNO' 'VRSK' 'VRSN' 'VRTX' 'VTR' 'VZ' 'V' 'WAT' 'WBA'\n",
      " 'WDC' 'WEC' 'WFC' 'WHR' 'WLTW' 'WMB' 'WMT' 'WM' 'WRK' 'WU' 'WYNN' 'WYN'\n",
      " 'WY' 'XEC' 'XEL' 'XLNX' 'XL' 'XOM' 'XRAY' 'XRX' 'XYL' 'YUM' 'ZBH' 'ZION'\n",
      " 'ZTS']\n"
     ]
    }
   ],
   "source": [
    "print(df.isnull().values.any()) #checking if any columns has null value in df\n",
    "print(df.isnull().any())#columns which have null values\n",
    "print(df.isnull().sum().sum())#total no of null values\n",
    "for col in df:\n",
    "    print(col)\n",
    "    print(format(df[col].unique()))"
   ]
  },
  {
   "cell_type": "markdown",
   "metadata": {
    "_uuid": "5f199b825e4274d85edafe24d149c10d232db8bf"
   },
   "source": [
    "Handle Missing Values"
   ]
  },
  {
   "cell_type": "code",
   "execution_count": 6,
   "metadata": {
    "_uuid": "63ccb781d252774b2bdc41a486d710d3b763fcb8"
   },
   "outputs": [
    {
     "data": {
      "text/plain": [
       "<matplotlib.axes._subplots.AxesSubplot at 0x7f857314d828>"
      ]
     },
     "execution_count": 6,
     "metadata": {},
     "output_type": "execute_result"
    },
    {
     "data": {
      "image/png": "[encoded data removed]",
      "text/plain": [
       "<Figure size 432x288 with 2 Axes>"
      ]
     },
     "metadata": {},
     "output_type": "display_data"
    }
   ],
   "source": [
    "null_columns=df.columns[df.isnull().any()]\n",
    "ndf=df.dropna(subset = null_columns)\n",
    "ndf.isnull().sum()\n",
    "ndf.index[-1]\n",
    "import seaborn as sns\n",
    "sns.heatmap(ndf.corr())"
   ]
  },
  {
   "cell_type": "code",
   "execution_count": 7,
   "metadata": {
    "_uuid": "2fe766701966c00376cbf58470215da940dd5b2c"
   },
   "outputs": [
    {
     "name": "stderr",
     "output_type": "stream",
     "text": [
      "Using TensorFlow backend.\n"
     ]
    }
   ],
   "source": [
    "import numpy\n",
    "import matplotlib.pyplot as plt\n",
    "import pandas\n",
    "import math\n",
    "from keras.models import Sequential\n",
    "from keras.layers import Dense\n",
    "from keras.layers import LSTM\n",
    "from sklearn.preprocessing import MinMaxScaler\n",
    "from sklearn.metrics import mean_squared_error\n",
    "numpy.random.seed(7)"
   ]
  },
  {
   "cell_type": "code",
   "execution_count": 8,
   "metadata": {
    "_uuid": "8ba020c3cb675446b35cf79142c63c21e0bd8644"
   },
   "outputs": [
    {
     "name": "stdout",
     "output_type": "stream",
     "text": [
      "1007 252\n"
     ]
    }
   ],
   "source": [
    "cl = ndf[ndf['Name']=='AAPL'].close\n",
    "cl=cl.values\n",
    "scaler = MinMaxScaler(feature_range=(0, 1))\n",
    "cl=cl.reshape(-1, 1)\n",
    "cl = scaler.fit_transform(cl)\n",
    "# split into train and test sets\n",
    "train_size = int(len(cl) * 0.8)\n",
    "test_size = len(cl) - train_size\n",
    "train, test = cl[0:train_size,:], cl[train_size:len(cl),:]\n",
    "print(len(train), len(test))"
   ]
  },
  {
   "cell_type": "code",
   "execution_count": 9,
   "metadata": {
    "_uuid": "9ee129cf867db4c531692af47284975bde97e34a"
   },
   "outputs": [],
   "source": [
    "def create_dataset(dataset, look_back=1):\n",
    "    dataX, dataY = [], []\n",
    "    for i in range(len(dataset)-look_back-1):\n",
    "        a = dataset[i:(i+look_back), 0]\n",
    "        dataX.append(a)\n",
    "        dataY.append(dataset[i + look_back, 0])\n",
    "    return numpy.array(dataX), numpy.array(dataY)"
   ]
  },
  {
   "cell_type": "code",
   "execution_count": 10,
   "metadata": {
    "_uuid": "5bd26b715906098b562ce52aa3dfede46ff88e1a"
   },
   "outputs": [],
   "source": [
    "# reshape into X=t and Y=t+1\n",
    "look_back = 10\n",
    "trainX, trainY = create_dataset(train, look_back)\n",
    "testX, testY = create_dataset(test, look_back)"
   ]
  },
  {
   "cell_type": "code",
   "execution_count": 11,
   "metadata": {
    "_uuid": "f1eb27da21cf123c476fc7feb2ded6b2165acbd7"
   },
   "outputs": [],
   "source": [
    "# reshape input to be [samples, time steps, features]\n",
    "trainX = numpy.reshape(trainX, (trainX.shape[0], 1, trainX.shape[1]))\n",
    "testX = numpy.reshape(testX, (testX.shape[0], 1, testX.shape[1]))"
   ]
  },
  {
   "cell_type": "code",
   "execution_count": 12,
   "metadata": {
    "_uuid": "e714769bdff021cd62e8681a18ea7aba0ec23877"
   },
   "outputs": [
    {
     "name": "stdout",
     "output_type": "stream",
     "text": [
      "WARNING:tensorflow:From /opt/conda/lib/python3.6/site-packages/tensorflow/python/framework/op_def_library.py:263: colocate_with (from tensorflow.python.framework.ops) is deprecated and will be removed in a future version.\n",
      "Instructions for updating:\n",
      "Colocations handled automatically by placer.\n",
      "WARNING:tensorflow:From /opt/conda/lib/python3.6/site-packages/tensorflow/python/ops/math_ops.py:3066: to_int32 (from tensorflow.python.ops.math_ops) is deprecated and will be removed in a future version.\n",
      "Instructions for updating:\n",
      "Use tf.cast instead.\n",
      "Epoch 1/100\n",
      " - 8s - loss: 0.0051\n",
      "Epoch 2/100\n",
      " - 6s - loss: 5.2445e-04\n",
      "Epoch 3/100\n",
      " - 6s - loss: 4.5828e-04\n",
      "Epoch 4/100\n",
      " - 6s - loss: 3.9913e-04\n",
      "Epoch 5/100\n",
      " - 6s - loss: 3.7283e-04\n",
      "Epoch 6/100\n",
      " - 6s - loss: 3.6313e-04\n",
      "Epoch 7/100\n",
      " - 6s - loss: 3.3591e-04\n",
      "Epoch 8/100\n",
      " - 6s - loss: 3.1193e-04\n",
      "Epoch 9/100\n",
      " - 6s - loss: 2.9525e-04\n",
      "Epoch 10/100\n",
      " - 6s - loss: 2.9306e-04\n",
      "Epoch 11/100\n",
      " - 6s - loss: 2.7781e-04\n",
      "Epoch 12/100\n",
      " - 6s - loss: 2.7414e-04\n",
      "Epoch 13/100\n",
      " - 6s - loss: 2.5203e-04\n",
      "Epoch 14/100\n",
      " - 6s - loss: 2.5804e-04\n",
      "Epoch 15/100\n",
      " - 6s - loss: 2.5962e-04\n",
      "Epoch 16/100\n",
      " - 6s - loss: 2.5338e-04\n",
      "Epoch 17/100\n",
      " - 6s - loss: 2.5425e-04\n",
      "Epoch 18/100\n",
      " - 6s - loss: 2.4352e-04\n",
      "Epoch 19/100\n",
      " - 6s - loss: 2.4411e-04\n",
      "Epoch 20/100\n",
      " - 6s - loss: 2.4307e-04\n",
      "Epoch 21/100\n",
      " - 6s - loss: 2.2907e-04\n",
      "Epoch 22/100\n",
      " - 6s - loss: 2.3677e-04\n",
      "Epoch 23/100\n",
      " - 6s - loss: 2.3441e-04\n",
      "Epoch 24/100\n",
      " - 6s - loss: 2.2028e-04\n",
      "Epoch 25/100\n",
      " - 6s - loss: 2.2354e-04\n",
      "Epoch 26/100\n",
      " - 6s - loss: 2.2864e-04\n",
      "Epoch 27/100\n",
      " - 6s - loss: 2.2422e-04\n",
      "Epoch 28/100\n",
      " - 6s - loss: 2.1644e-04\n",
      "Epoch 29/100\n",
      " - 6s - loss: 2.1227e-04\n",
      "Epoch 30/100\n",
      " - 6s - loss: 2.2029e-04\n",
      "Epoch 31/100\n",
      " - 6s - loss: 2.3019e-04\n",
      "Epoch 32/100\n",
      " - 6s - loss: 2.0550e-04\n",
      "Epoch 33/100\n",
      " - 6s - loss: 2.1079e-04\n",
      "Epoch 34/100\n",
      " - 6s - loss: 2.1155e-04\n",
      "Epoch 35/100\n",
      " - 6s - loss: 2.1139e-04\n",
      "Epoch 36/100\n",
      " - 6s - loss: 2.1766e-04\n",
      "Epoch 37/100\n",
      " - 6s - loss: 2.0652e-04\n",
      "Epoch 38/100\n",
      " - 6s - loss: 2.0758e-04\n",
      "Epoch 39/100\n",
      " - 6s - loss: 2.0777e-04\n",
      "Epoch 40/100\n",
      " - 6s - loss: 2.1669e-04\n",
      "Epoch 41/100\n",
      " - 6s - loss: 2.1354e-04\n",
      "Epoch 42/100\n",
      " - 6s - loss: 1.9899e-04\n",
      "Epoch 43/100\n",
      " - 6s - loss: 2.0674e-04\n",
      "Epoch 44/100\n",
      " - 6s - loss: 1.9282e-04\n",
      "Epoch 45/100\n",
      " - 6s - loss: 2.0694e-04\n",
      "Epoch 46/100\n",
      " - 6s - loss: 1.9206e-04\n",
      "Epoch 47/100\n",
      " - 6s - loss: 1.9417e-04\n",
      "Epoch 48/100\n",
      " - 6s - loss: 1.9329e-04\n",
      "Epoch 49/100\n",
      " - 6s - loss: 1.9258e-04\n",
      "Epoch 50/100\n",
      " - 6s - loss: 1.9465e-04\n",
      "Epoch 51/100\n",
      " - 6s - loss: 1.8954e-04\n",
      "Epoch 52/100\n",
      " - 6s - loss: 1.9324e-04\n",
      "Epoch 53/100\n",
      " - 6s - loss: 1.9141e-04\n",
      "Epoch 54/100\n",
      " - 6s - loss: 1.9019e-04\n",
      "Epoch 55/100\n",
      " - 6s - loss: 1.9352e-04\n",
      "Epoch 56/100\n",
      " - 6s - loss: 1.8767e-04\n",
      "Epoch 57/100\n",
      " - 6s - loss: 1.9267e-04\n",
      "Epoch 58/100\n",
      " - 6s - loss: 1.8980e-04\n",
      "Epoch 59/100\n",
      " - 6s - loss: 1.9533e-04\n",
      "Epoch 60/100\n",
      " - 6s - loss: 1.9512e-04\n",
      "Epoch 61/100\n",
      " - 6s - loss: 1.8437e-04\n",
      "Epoch 62/100\n",
      " - 6s - loss: 1.7877e-04\n",
      "Epoch 63/100\n",
      " - 6s - loss: 1.8823e-04\n",
      "Epoch 64/100\n",
      " - 6s - loss: 1.8712e-04\n",
      "Epoch 65/100\n",
      " - 6s - loss: 1.8463e-04\n",
      "Epoch 66/100\n",
      " - 6s - loss: 1.9327e-04\n",
      "Epoch 67/100\n",
      " - 6s - loss: 1.8866e-04\n",
      "Epoch 68/100\n",
      " - 6s - loss: 1.8898e-04\n",
      "Epoch 69/100\n",
      " - 6s - loss: 1.8823e-04\n",
      "Epoch 70/100\n",
      " - 6s - loss: 1.8834e-04\n",
      "Epoch 71/100\n",
      " - 6s - loss: 1.8259e-04\n",
      "Epoch 72/100\n",
      " - 6s - loss: 1.8251e-04\n",
      "Epoch 73/100\n",
      " - 6s - loss: 1.8878e-04\n",
      "Epoch 74/100\n",
      " - 6s - loss: 1.9143e-04\n",
      "Epoch 75/100\n",
      " - 6s - loss: 1.8646e-04\n",
      "Epoch 76/100\n",
      " - 6s - loss: 1.9139e-04\n",
      "Epoch 77/100\n",
      " - 6s - loss: 1.8104e-04\n",
      "Epoch 78/100\n",
      " - 6s - loss: 1.8758e-04\n",
      "Epoch 79/100\n",
      " - 6s - loss: 1.8011e-04\n",
      "Epoch 80/100\n",
      " - 6s - loss: 1.8913e-04\n",
      "Epoch 81/100\n",
      " - 6s - loss: 1.7177e-04\n",
      "Epoch 82/100\n",
      " - 6s - loss: 1.8636e-04\n",
      "Epoch 83/100\n",
      " - 6s - loss: 1.7500e-04\n",
      "Epoch 84/100\n",
      " - 6s - loss: 1.8178e-04\n",
      "Epoch 85/100\n",
      " - 6s - loss: 1.7800e-04\n",
      "Epoch 86/100\n",
      " - 6s - loss: 1.8121e-04\n",
      "Epoch 87/100\n",
      " - 6s - loss: 1.7848e-04\n",
      "Epoch 88/100\n",
      " - 6s - loss: 1.8771e-04\n",
      "Epoch 89/100\n",
      " - 6s - loss: 1.8209e-04\n",
      "Epoch 90/100\n",
      " - 6s - loss: 1.7712e-04\n",
      "Epoch 91/100\n",
      " - 6s - loss: 1.7950e-04\n",
      "Epoch 92/100\n",
      " - 6s - loss: 1.7737e-04\n",
      "Epoch 93/100\n",
      " - 6s - loss: 1.7192e-04\n",
      "Epoch 94/100\n",
      " - 6s - loss: 1.8164e-04\n",
      "Epoch 95/100\n",
      " - 6s - loss: 1.7529e-04\n",
      "Epoch 96/100\n",
      " - 6s - loss: 1.8059e-04\n",
      "Epoch 97/100\n",
      " - 6s - loss: 1.7669e-04\n",
      "Epoch 98/100\n",
      " - 6s - loss: 1.7780e-04\n",
      "Epoch 99/100\n",
      " - 6s - loss: 1.8115e-04\n",
      "Epoch 100/100\n",
      " - 6s - loss: 1.8740e-04\n"
     ]
    },
    {
     "data": {
      "text/plain": [
       "<keras.callbacks.History at 0x7f8518841518>"
      ]
     },
     "execution_count": 12,
     "metadata": {},
     "output_type": "execute_result"
    }
   ],
   "source": [
    "# create and fit the LSTM network\n",
    "model = Sequential()\n",
    "model.add(LSTM(4, input_shape=(1, look_back)))\n",
    "model.add(Dense(1))\n",
    "model.compile(loss='mean_squared_error', optimizer='adam')\n",
    "model.fit(trainX, trainY, epochs=100, batch_size=1, verbose=2)"
   ]
  },
  {
   "cell_type": "code",
   "execution_count": 13,
   "metadata": {
    "_uuid": "f625c8b03489c2b5a8640b850a32ecf6fe0d28c3"
   },
   "outputs": [
    {
     "name": "stdout",
     "output_type": "stream",
     "text": [
      "Train Score: 1.54 RMSE\n",
      "Test Score: 6.53 RMSE\n"
     ]
    }
   ],
   "source": [
    "# make predictions\n",
    "trainPredict = model.predict(trainX)\n",
    "testPredict = model.predict(testX)\n",
    "# invert predictions\n",
    "trainPredict = scaler.inverse_transform(trainPredict)\n",
    "trainY = scaler.inverse_transform([trainY])\n",
    "testPredict = scaler.inverse_transform(testPredict)\n",
    "testY = scaler.inverse_transform([testY])\n",
    "# calculate root mean squared error\n",
    "trainScore = math.sqrt(mean_squared_error(trainY[0], trainPredict[:,0]))\n",
    "print('Train Score: %.2f RMSE' % (trainScore))\n",
    "testScore = math.sqrt(mean_squared_error(testY[0], testPredict[:,0]))\n",
    "print('Test Score: %.2f RMSE' % (testScore))"
   ]
  },
  {
   "cell_type": "code",
   "execution_count": 14,
   "metadata": {
    "_uuid": "55c679b10ea2ff7276961d3830e920efdbe6fe81"
   },
   "outputs": [
    {
     "data": {
      "image/png": "[encoded data removed]",
      "text/plain": [
       "<Figure size 432x288 with 1 Axes>"
      ]
     },
     "metadata": {},
     "output_type": "display_data"
    }
   ],
   "source": [
    "# shift train predictions for plotting\n",
    "trainPredictPlot = numpy.empty_like(cl)\n",
    "trainPredictPlot[:, :] = numpy.nan\n",
    "trainPredictPlot[look_back:len(trainPredict)+look_back, :] = trainPredict\n",
    "# shift test predictions for plotting\n",
    "testPredictPlot = numpy.empty_like(cl)\n",
    "testPredictPlot[:, :] = numpy.nan\n",
    "testPredictPlot[len(trainPredict)+(look_back*2)+1:len(cl)-1, :] = testPredict\n",
    "# plot baseline and predictions\n",
    "plt.plot(scaler.inverse_transform(cl))\n",
    "plt.plot(trainPredictPlot)\n",
    "plt.plot(testPredictPlot)\n",
    "plt.show()"
   ]
  }
 ],
 "metadata": {
  "kernelspec": {
   "display_name": "Python 3",
   "language": "python",
   "name": "python3"
  },
  "language_info": {
   "codemirror_mode": {
    "name": "ipython",
    "version": 3
   },
   "file_extension": ".py",
   "mimetype": "text/x-python",
   "name": "python",
   "nbconvert_exporter": "python",
   "pygments_lexer": "ipython3",
   "version": "3.6.6"
  }
 },
 "nbformat": 4,
 "nbformat_minor": 1
}
